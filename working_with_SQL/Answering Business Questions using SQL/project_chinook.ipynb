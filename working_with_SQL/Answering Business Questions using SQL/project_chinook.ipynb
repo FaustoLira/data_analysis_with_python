{
 "cells": [
  {
   "cell_type": "markdown",
   "metadata": {},
   "source": [
    "# SQL Project: Answering Business questions about a digital music store\n",
    "\n",
    "The [Chinook database](https://github.com/lerocha/chinook-database) contains information about a fictional digital music shop - kind of like a mini-iTunes store. The Chinook database contains information about the artists, songs, and albums from the music shop, as well as information on the shop's employees, customers, and the customers purchases. \n",
    "\n",
    "<img src='mp4.jpg' alt='mp4.jpg' width='300' height='450'>\n",
    "    \n",
    "In this project we will answer three questions. \n",
    "\n",
    "- Select new albuns in a list to add to the platafform. \n",
    "- Analyzing employee's sale performance. \n",
    "- Analyzing sales by country.    \n",
    "    \n",
    "This information is contained in eleven tables. Here's a schema diagram for the Chinook database:\n",
    "\n",
    "<img src='chinook-schema.svg' alt='chinook-schema.svg' width='900' height='1200'>"
   ]
  },
  {
   "cell_type": "markdown",
   "metadata": {},
   "source": [
    "Load the data"
   ]
  },
  {
   "cell_type": "code",
   "execution_count": 1,
   "metadata": {},
   "outputs": [],
   "source": [
    "%%capture\n",
    "%load_ext sql\n",
    "%sql sqlite:///chinook.db"
   ]
  },
  {
   "cell_type": "markdown",
   "metadata": {},
   "source": [
    "Get familiar with the data"
   ]
  },
  {
   "cell_type": "code",
   "execution_count": 2,
   "metadata": {},
   "outputs": [
    {
     "name": "stdout",
     "output_type": "stream",
     "text": [
      " * sqlite:///chinook.db\n",
      "Done.\n"
     ]
    },
    {
     "data": {
      "text/html": [
       "<table>\n",
       "    <thead>\n",
       "        <tr>\n",
       "            <th>name</th>\n",
       "            <th>type</th>\n",
       "        </tr>\n",
       "    </thead>\n",
       "    <tbody>\n",
       "        <tr>\n",
       "            <td>album</td>\n",
       "            <td>table</td>\n",
       "        </tr>\n",
       "        <tr>\n",
       "            <td>artist</td>\n",
       "            <td>table</td>\n",
       "        </tr>\n",
       "        <tr>\n",
       "            <td>customer</td>\n",
       "            <td>table</td>\n",
       "        </tr>\n",
       "        <tr>\n",
       "            <td>employee</td>\n",
       "            <td>table</td>\n",
       "        </tr>\n",
       "        <tr>\n",
       "            <td>genre</td>\n",
       "            <td>table</td>\n",
       "        </tr>\n",
       "        <tr>\n",
       "            <td>invoice</td>\n",
       "            <td>table</td>\n",
       "        </tr>\n",
       "        <tr>\n",
       "            <td>invoice_line</td>\n",
       "            <td>table</td>\n",
       "        </tr>\n",
       "        <tr>\n",
       "            <td>media_type</td>\n",
       "            <td>table</td>\n",
       "        </tr>\n",
       "        <tr>\n",
       "            <td>playlist</td>\n",
       "            <td>table</td>\n",
       "        </tr>\n",
       "        <tr>\n",
       "            <td>playlist_track</td>\n",
       "            <td>table</td>\n",
       "        </tr>\n",
       "        <tr>\n",
       "            <td>track</td>\n",
       "            <td>table</td>\n",
       "        </tr>\n",
       "    </tbody>\n",
       "</table>"
      ],
      "text/plain": [
       "[('album', 'table'),\n",
       " ('artist', 'table'),\n",
       " ('customer', 'table'),\n",
       " ('employee', 'table'),\n",
       " ('genre', 'table'),\n",
       " ('invoice', 'table'),\n",
       " ('invoice_line', 'table'),\n",
       " ('media_type', 'table'),\n",
       " ('playlist', 'table'),\n",
       " ('playlist_track', 'table'),\n",
       " ('track', 'table')]"
      ]
     },
     "execution_count": 2,
     "metadata": {},
     "output_type": "execute_result"
    }
   ],
   "source": [
    "%%sql\n",
    "SELECT\n",
    "    name,\n",
    "    type\n",
    "FROM sqlite_master\n",
    "WHERE type = \"table\";"
   ]
  },
  {
   "cell_type": "markdown",
   "metadata": {},
   "source": [
    "---\n",
    "#### Question 1 \n",
    "\n",
    "The record store Chinook has just signed a new record label. The new record label specializes in USA artists in a wide variety of genres. They have given Chinook some money to add 3 new albums in a list of four in the USA. Below the names and genres of the 4 artists to be chosen.\n",
    "\n",
    "| Artist Name | Genre |\n",
    "|---|---|\n",
    "| Regal | Hip-Hop |\n",
    "| Red Tone | Punk |\n",
    "| Meteor and the Girls | Pop |\n",
    "| Slim Jim Bites | Blues |\n",
    "\n",
    "Our task is select the three albums that will be added to the store. \n",
    "\n",
    "---"
   ]
  },
  {
   "cell_type": "markdown",
   "metadata": {},
   "source": [
    "Our initial approach is create a query that returns each genre and the absolute sale numbers and relative sale numbers in the USA. First we create a view which returns the tracks sold in USA."
   ]
  },
  {
   "cell_type": "code",
   "execution_count": 3,
   "metadata": {},
   "outputs": [
    {
     "name": "stdout",
     "output_type": "stream",
     "text": [
      " * sqlite:///chinook.db\n",
      "(sqlite3.OperationalError) table tracks_sold_usa already exists\n",
      "[SQL: CREATE VIEW tracks_sold_usa AS\n",
      "    SELECT \n",
      "        c.customer_id,\n",
      "        c.first_name || ' ' || c.last_name customer_name,\n",
      "        c.country,\n",
      "        t.track_id,\n",
      "        t.name song,\n",
      "        g.name genre\n",
      "    FROM invoice_line i_l\n",
      "    INNER JOIN invoice i ON i.invoice_id = i_l.invoice_id\n",
      "    INNER JOIN customer c ON c.customer_id = i.customer_id\n",
      "    INNER JOIN track t ON t.track_id = i_l.track_id\n",
      "    INNER JOIN genre g ON g.genre_id = t.genre_id\n",
      "    WHERE c.country = 'USA';]\n",
      "(Background on this error at: http://sqlalche.me/e/13/e3q8)\n"
     ]
    }
   ],
   "source": [
    "%%sql\n",
    "CREATE VIEW tracks_sold_usa AS\n",
    "    SELECT \n",
    "        c.customer_id,\n",
    "        c.first_name || ' ' || c.last_name customer_name,\n",
    "        c.country,\n",
    "        t.track_id,\n",
    "        t.name song,\n",
    "        g.name genre\n",
    "    FROM invoice_line i_l\n",
    "    INNER JOIN invoice i ON i.invoice_id = i_l.invoice_id\n",
    "    INNER JOIN customer c ON c.customer_id = i.customer_id\n",
    "    INNER JOIN track t ON t.track_id = i_l.track_id\n",
    "    INNER JOIN genre g ON g.genre_id = t.genre_id\n",
    "    WHERE c.country = 'USA';\n",
    "\n",
    "    \n",
    "SELECT *\n",
    "FROM tracks_sold_usa\n",
    "LIMIT 5;"
   ]
  },
  {
   "cell_type": "markdown",
   "metadata": {},
   "source": [
    "Let's group by the genre and count the number of sold track for genre."
   ]
  },
  {
   "cell_type": "code",
   "execution_count": 4,
   "metadata": {},
   "outputs": [
    {
     "name": "stdout",
     "output_type": "stream",
     "text": [
      " * sqlite:///chinook.db\n",
      "Done.\n"
     ]
    },
    {
     "data": {
      "text/html": [
       "<table>\n",
       "    <thead>\n",
       "        <tr>\n",
       "            <th>genre</th>\n",
       "            <th>count</th>\n",
       "        </tr>\n",
       "    </thead>\n",
       "    <tbody>\n",
       "        <tr>\n",
       "            <td>Rock</td>\n",
       "            <td>561</td>\n",
       "        </tr>\n",
       "        <tr>\n",
       "            <td>Alternative &amp; Punk</td>\n",
       "            <td>130</td>\n",
       "        </tr>\n",
       "        <tr>\n",
       "            <td>Metal</td>\n",
       "            <td>124</td>\n",
       "        </tr>\n",
       "        <tr>\n",
       "            <td>R&amp;B/Soul</td>\n",
       "            <td>53</td>\n",
       "        </tr>\n",
       "        <tr>\n",
       "            <td>Blues</td>\n",
       "            <td>36</td>\n",
       "        </tr>\n",
       "        <tr>\n",
       "            <td>Alternative</td>\n",
       "            <td>35</td>\n",
       "        </tr>\n",
       "        <tr>\n",
       "            <td>Pop</td>\n",
       "            <td>22</td>\n",
       "        </tr>\n",
       "        <tr>\n",
       "            <td>Latin</td>\n",
       "            <td>22</td>\n",
       "        </tr>\n",
       "        <tr>\n",
       "            <td>Hip Hop/Rap</td>\n",
       "            <td>20</td>\n",
       "        </tr>\n",
       "        <tr>\n",
       "            <td>Jazz</td>\n",
       "            <td>14</td>\n",
       "        </tr>\n",
       "        <tr>\n",
       "            <td>Easy Listening</td>\n",
       "            <td>13</td>\n",
       "        </tr>\n",
       "        <tr>\n",
       "            <td>Reggae</td>\n",
       "            <td>6</td>\n",
       "        </tr>\n",
       "        <tr>\n",
       "            <td>Electronica/Dance</td>\n",
       "            <td>5</td>\n",
       "        </tr>\n",
       "        <tr>\n",
       "            <td>Classical</td>\n",
       "            <td>4</td>\n",
       "        </tr>\n",
       "        <tr>\n",
       "            <td>Heavy Metal</td>\n",
       "            <td>3</td>\n",
       "        </tr>\n",
       "        <tr>\n",
       "            <td>Soundtrack</td>\n",
       "            <td>2</td>\n",
       "        </tr>\n",
       "        <tr>\n",
       "            <td>TV Shows</td>\n",
       "            <td>1</td>\n",
       "        </tr>\n",
       "    </tbody>\n",
       "</table>"
      ],
      "text/plain": [
       "[('Rock', 561),\n",
       " ('Alternative & Punk', 130),\n",
       " ('Metal', 124),\n",
       " ('R&B/Soul', 53),\n",
       " ('Blues', 36),\n",
       " ('Alternative', 35),\n",
       " ('Pop', 22),\n",
       " ('Latin', 22),\n",
       " ('Hip Hop/Rap', 20),\n",
       " ('Jazz', 14),\n",
       " ('Easy Listening', 13),\n",
       " ('Reggae', 6),\n",
       " ('Electronica/Dance', 5),\n",
       " ('Classical', 4),\n",
       " ('Heavy Metal', 3),\n",
       " ('Soundtrack', 2),\n",
       " ('TV Shows', 1)]"
      ]
     },
     "execution_count": 4,
     "metadata": {},
     "output_type": "execute_result"
    }
   ],
   "source": [
    "%%sql\n",
    "SELECT \n",
    "    genre, \n",
    "    COUNT(genre) count\n",
    "FROM tracks_sold_usa\n",
    "GROUP BY genre\n",
    "ORDER BY count DESC;"
   ]
  },
  {
   "cell_type": "markdown",
   "metadata": {},
   "source": [
    "Selecting only the four genres: Hip-Hop, Punk, Pop and Blues."
   ]
  },
  {
   "cell_type": "code",
   "execution_count": 5,
   "metadata": {},
   "outputs": [
    {
     "name": "stdout",
     "output_type": "stream",
     "text": [
      " * sqlite:///chinook.db\n",
      "Done.\n"
     ]
    },
    {
     "data": {
      "text/html": [
       "<table>\n",
       "    <thead>\n",
       "        <tr>\n",
       "            <th>genre</th>\n",
       "            <th>tracks_sold</th>\n",
       "            <th>tracks_sold_percent</th>\n",
       "        </tr>\n",
       "    </thead>\n",
       "    <tbody>\n",
       "        <tr>\n",
       "            <td>Alternative &amp; Punk</td>\n",
       "            <td>130</td>\n",
       "            <td>0.124</td>\n",
       "        </tr>\n",
       "        <tr>\n",
       "            <td>Blues</td>\n",
       "            <td>36</td>\n",
       "            <td>0.034</td>\n",
       "        </tr>\n",
       "        <tr>\n",
       "            <td>Pop</td>\n",
       "            <td>22</td>\n",
       "            <td>0.021</td>\n",
       "        </tr>\n",
       "        <tr>\n",
       "            <td>Hip Hop/Rap</td>\n",
       "            <td>20</td>\n",
       "            <td>0.019</td>\n",
       "        </tr>\n",
       "    </tbody>\n",
       "</table>"
      ],
      "text/plain": [
       "[('Alternative & Punk', 130, 0.124),\n",
       " ('Blues', 36, 0.034),\n",
       " ('Pop', 22, 0.021),\n",
       " ('Hip Hop/Rap', 20, 0.019)]"
      ]
     },
     "execution_count": 5,
     "metadata": {},
     "output_type": "execute_result"
    }
   ],
   "source": [
    "%%sql\n",
    "SELECT \n",
    "    genre, \n",
    "    COUNT(genre) tracks_sold,\n",
    "    ROUND(CAST(COUNT(genre) AS FLOAT) / CAST((SELECT COUNT(*) FROM tracks_sold_usa) AS FLOAT),3) tracks_sold_percent\n",
    "FROM tracks_sold_usa\n",
    "WHERE genre IN ('Hip Hop/Rap', 'Alternative & Punk', 'Pop', 'Blues')\n",
    "GROUP BY genre\n",
    "ORDER BY tracks_sold DESC;"
   ]
  },
  {
   "cell_type": "markdown",
   "metadata": {},
   "source": [
    "Looking at the best selling music genres in the USA, we should select the albums of the following artists:\n",
    "\n",
    "| Artist Name | Genre |\n",
    "|---|---|\n",
    "| Red Tone | Punk |\n",
    "| Slim Jim Bites | Blues |\n",
    "| Meteor and the Girls | Pop |"
   ]
  },
  {
   "cell_type": "code",
   "execution_count": 6,
   "metadata": {},
   "outputs": [
    {
     "name": "stdout",
     "output_type": "stream",
     "text": [
      " * sqlite:///chinook.db\n",
      "Done.\n"
     ]
    },
    {
     "data": {
      "text/plain": [
       "[]"
      ]
     },
     "execution_count": 6,
     "metadata": {},
     "output_type": "execute_result"
    }
   ],
   "source": [
    "%%sql\n",
    "DROP VIEW IF EXISTS tracks_sold_usa;"
   ]
  },
  {
   "cell_type": "markdown",
   "metadata": {},
   "source": [
    "---\n",
    "Question 2. Each customer for the Chinook store gets assigned to a sales support agent within the company when they first make a purchase. Which salesman had the best performance?\n",
    "\n",
    "---"
   ]
  },
  {
   "cell_type": "markdown",
   "metadata": {},
   "source": [
    "We have to calculate amount of sales (in USD) in the \"invoice\" table for each employee (employee_id) in the \"employee\" table. We also also add other information to the next query."
   ]
  },
  {
   "cell_type": "code",
   "execution_count": 26,
   "metadata": {},
   "outputs": [
    {
     "name": "stdout",
     "output_type": "stream",
     "text": [
      " * sqlite:///chinook.db\n",
      "Done.\n"
     ]
    },
    {
     "data": {
      "text/html": [
       "<table>\n",
       "    <thead>\n",
       "        <tr>\n",
       "            <th>employee_id</th>\n",
       "            <th>customer_name</th>\n",
       "            <th>hire_date</th>\n",
       "            <th>amount_sales_usd</th>\n",
       "            <th>amount_sales_usd_percent</th>\n",
       "        </tr>\n",
       "    </thead>\n",
       "    <tbody>\n",
       "        <tr>\n",
       "            <td>3</td>\n",
       "            <td>Jane Peacock</td>\n",
       "            <td>2017-04-01 00:00:00</td>\n",
       "            <td>1731.51</td>\n",
       "            <td>0.37</td>\n",
       "        </tr>\n",
       "        <tr>\n",
       "            <td>4</td>\n",
       "            <td>Margaret Park</td>\n",
       "            <td>2017-05-03 00:00:00</td>\n",
       "            <td>1584.0</td>\n",
       "            <td>0.34</td>\n",
       "        </tr>\n",
       "        <tr>\n",
       "            <td>5</td>\n",
       "            <td>Steve Johnson</td>\n",
       "            <td>2017-10-17 00:00:00</td>\n",
       "            <td>1393.92</td>\n",
       "            <td>0.3</td>\n",
       "        </tr>\n",
       "    </tbody>\n",
       "</table>"
      ],
      "text/plain": [
       "[(3, 'Jane Peacock', '2017-04-01 00:00:00', 1731.51, 0.37),\n",
       " (4, 'Margaret Park', '2017-05-03 00:00:00', 1584.0, 0.34),\n",
       " (5, 'Steve Johnson', '2017-10-17 00:00:00', 1393.92, 0.3)]"
      ]
     },
     "execution_count": 26,
     "metadata": {},
     "output_type": "execute_result"
    }
   ],
   "source": [
    "%%sql\n",
    "SELECT\n",
    "    e.employee_id,\n",
    "    e.first_name || ' ' || e.last_name customer_name,\n",
    "    e.hire_date,\n",
    "    ROUND(SUM(i.total),2) amount_sales_usd,\n",
    "    ROUND(CAST(SUM(i.total) AS FLOAT) / CAST((SELECT SUM(total) FROM invoice) AS FLOAT), 2) amount_sales_usd_percent\n",
    "FROM invoice i\n",
    "INNER JOIN customer c ON c.customer_id = i.customer_id\n",
    "INNER JOIN employee e ON e.employee_id = c.support_rep_id\n",
    "GROUP BY employee_id\n",
    "ORDER BY amount_sales_usd DESC;"
   ]
  },
  {
   "cell_type": "markdown",
   "metadata": {},
   "source": [
    "Jane Peacock was the sales agent whose customers spent more at the store. However, she was the agent who started the company earlier."
   ]
  },
  {
   "cell_type": "markdown",
   "metadata": {},
   "source": [
    "---\n",
    "Question 3. Which country has a higher average purchase on the site? We assume the country to be the one described in the \"customer\" table. Countries with only one customer should be grouped by \"Others\" in the \"country\" column and will not be considered in the analysis. \n",
    "\n",
    "---"
   ]
  },
  {
   "cell_type": "markdown",
   "metadata": {},
   "source": [
    "To place \"Others\" as a country always at the botton of the table, we will assign an index 0 for countries with more than one customer and 1 for \"Others\"."
   ]
  },
  {
   "cell_type": "code",
   "execution_count": 134,
   "metadata": {},
   "outputs": [
    {
     "name": "stdout",
     "output_type": "stream",
     "text": [
      " * sqlite:///chinook.db\n",
      "Done.\n",
      "Done.\n",
      "Done.\n"
     ]
    },
    {
     "data": {
      "text/html": [
       "<table>\n",
       "    <thead>\n",
       "        <tr>\n",
       "            <th>country</th>\n",
       "            <th>customers</th>\n",
       "            <th>total</th>\n",
       "            <th>average_order</th>\n",
       "            <th>country_index</th>\n",
       "        </tr>\n",
       "    </thead>\n",
       "    <tbody>\n",
       "        <tr>\n",
       "            <td>USA</td>\n",
       "            <td>13</td>\n",
       "            <td>1040.49</td>\n",
       "            <td>7.94</td>\n",
       "            <td>0</td>\n",
       "        </tr>\n",
       "        <tr>\n",
       "            <td>Canada</td>\n",
       "            <td>8</td>\n",
       "            <td>535.59</td>\n",
       "            <td>7.05</td>\n",
       "            <td>0</td>\n",
       "        </tr>\n",
       "        <tr>\n",
       "            <td>Brazil</td>\n",
       "            <td>5</td>\n",
       "            <td>427.68</td>\n",
       "            <td>7.01</td>\n",
       "            <td>0</td>\n",
       "        </tr>\n",
       "        <tr>\n",
       "            <td>France</td>\n",
       "            <td>5</td>\n",
       "            <td>389.07</td>\n",
       "            <td>7.78</td>\n",
       "            <td>0</td>\n",
       "        </tr>\n",
       "        <tr>\n",
       "            <td>Germany</td>\n",
       "            <td>4</td>\n",
       "            <td>334.62</td>\n",
       "            <td>8.16</td>\n",
       "            <td>0</td>\n",
       "        </tr>\n",
       "        <tr>\n",
       "            <td>Czech Republic</td>\n",
       "            <td>2</td>\n",
       "            <td>273.24</td>\n",
       "            <td>9.11</td>\n",
       "            <td>0</td>\n",
       "        </tr>\n",
       "        <tr>\n",
       "            <td>United Kingdom</td>\n",
       "            <td>3</td>\n",
       "            <td>245.52</td>\n",
       "            <td>8.77</td>\n",
       "            <td>0</td>\n",
       "        </tr>\n",
       "        <tr>\n",
       "            <td>Portugal</td>\n",
       "            <td>2</td>\n",
       "            <td>185.13</td>\n",
       "            <td>6.38</td>\n",
       "            <td>0</td>\n",
       "        </tr>\n",
       "        <tr>\n",
       "            <td>India</td>\n",
       "            <td>2</td>\n",
       "            <td>183.15</td>\n",
       "            <td>8.72</td>\n",
       "            <td>0</td>\n",
       "        </tr>\n",
       "    </tbody>\n",
       "</table>"
      ],
      "text/plain": [
       "[('USA', 13, 1040.49, 7.94, 0),\n",
       " ('Canada', 8, 535.59, 7.05, 0),\n",
       " ('Brazil', 5, 427.68, 7.01, 0),\n",
       " ('France', 5, 389.07, 7.78, 0),\n",
       " ('Germany', 4, 334.62, 8.16, 0),\n",
       " ('Czech Republic', 2, 273.24, 9.11, 0),\n",
       " ('United Kingdom', 3, 245.52, 8.77, 0),\n",
       " ('Portugal', 2, 185.13, 6.38, 0),\n",
       " ('India', 2, 183.15, 8.72, 0)]"
      ]
     },
     "execution_count": 134,
     "metadata": {},
     "output_type": "execute_result"
    }
   ],
   "source": [
    "%%sql\n",
    "DROP VIEW IF EXISTS country_more_1_customer;\n",
    "\n",
    "CREATE VIEW country_more_1_customer AS\n",
    "    SELECT\n",
    "        c.country,\n",
    "        COUNT(DISTINCT(i.customer_id)) customers,\n",
    "        ROUND(SUM(i.total),2) total,\n",
    "        ROUND(AVG(i.total),2) average_order,\n",
    "        0 country_index\n",
    "    FROM invoice i\n",
    "    INNER JOIN customer c ON c.customer_id = i.customer_id\n",
    "    GROUP BY country\n",
    "    HAVING customers > 1;\n",
    "\n",
    "SELECT * \n",
    "FROM country_more_1_customer\n",
    "ORDER BY total DESC;"
   ]
  },
  {
   "cell_type": "markdown",
   "metadata": {},
   "source": [
    "Countries with only one customer will be grouped as \"Others\"."
   ]
  },
  {
   "cell_type": "code",
   "execution_count": 135,
   "metadata": {},
   "outputs": [
    {
     "name": "stdout",
     "output_type": "stream",
     "text": [
      " * sqlite:///chinook.db\n",
      "Done.\n",
      "Done.\n",
      "Done.\n",
      "Done.\n",
      "Done.\n"
     ]
    },
    {
     "data": {
      "text/html": [
       "<table>\n",
       "    <thead>\n",
       "        <tr>\n",
       "            <th>country</th>\n",
       "            <th>customers</th>\n",
       "            <th>total</th>\n",
       "            <th>average_order</th>\n",
       "            <th>country_index</th>\n",
       "        </tr>\n",
       "    </thead>\n",
       "    <tbody>\n",
       "        <tr>\n",
       "            <td>Others</td>\n",
       "            <td>15</td>\n",
       "            <td>1094.94</td>\n",
       "            <td>7.44</td>\n",
       "            <td>1</td>\n",
       "        </tr>\n",
       "    </tbody>\n",
       "</table>"
      ],
      "text/plain": [
       "[('Others', 15, 1094.94, 7.44, 1)]"
      ]
     },
     "execution_count": 135,
     "metadata": {},
     "output_type": "execute_result"
    }
   ],
   "source": [
    "%%sql\n",
    "DROP VIEW IF EXISTS country_with_1_customer_aux;\n",
    "DROP VIEW IF EXISTS country_with_1_customer;\n",
    "\n",
    "CREATE VIEW country_with_1_customer_aux AS\n",
    "    SELECT\n",
    "        c.country,\n",
    "        COUNT(DISTINCT(i.customer_id)) customers,\n",
    "        ROUND(SUM(i.total),2) total,\n",
    "        ROUND(AVG(i.total),2) average_order,\n",
    "        1 country_index\n",
    "    FROM invoice i\n",
    "    INNER JOIN customer c ON c.customer_id = i.customer_id\n",
    "    GROUP BY country\n",
    "    HAVING customers == 1;\n",
    "\n",
    "CREATE VIEW country_with_1_customer AS\n",
    "    SELECT \n",
    "        \"Others\" country,\n",
    "        COUNT(customers) customers,\n",
    "        SUM(total) total,\n",
    "        ROUND(AVG(average_order),2) average_order,\n",
    "        1 country_index\n",
    "    FROM country_with_1_customer_aux\n",
    "    GROUP BY country_index;\n",
    "\n",
    "SELECT * FROM country_with_1_customer;"
   ]
  },
  {
   "cell_type": "code",
   "execution_count": 142,
   "metadata": {},
   "outputs": [
    {
     "name": "stdout",
     "output_type": "stream",
     "text": [
      " * sqlite:///chinook.db\n",
      "Done.\n"
     ]
    },
    {
     "data": {
      "text/html": [
       "<table>\n",
       "    <thead>\n",
       "        <tr>\n",
       "            <th>country</th>\n",
       "            <th>customers</th>\n",
       "            <th>total</th>\n",
       "            <th>average_order</th>\n",
       "            <th>country_index</th>\n",
       "        </tr>\n",
       "    </thead>\n",
       "    <tbody>\n",
       "        <tr>\n",
       "            <td>Czech Republic</td>\n",
       "            <td>2</td>\n",
       "            <td>273.24</td>\n",
       "            <td>9.11</td>\n",
       "            <td>0</td>\n",
       "        </tr>\n",
       "        <tr>\n",
       "            <td>United Kingdom</td>\n",
       "            <td>3</td>\n",
       "            <td>245.52</td>\n",
       "            <td>8.77</td>\n",
       "            <td>0</td>\n",
       "        </tr>\n",
       "        <tr>\n",
       "            <td>India</td>\n",
       "            <td>2</td>\n",
       "            <td>183.15</td>\n",
       "            <td>8.72</td>\n",
       "            <td>0</td>\n",
       "        </tr>\n",
       "        <tr>\n",
       "            <td>Germany</td>\n",
       "            <td>4</td>\n",
       "            <td>334.62</td>\n",
       "            <td>8.16</td>\n",
       "            <td>0</td>\n",
       "        </tr>\n",
       "        <tr>\n",
       "            <td>USA</td>\n",
       "            <td>13</td>\n",
       "            <td>1040.49</td>\n",
       "            <td>7.94</td>\n",
       "            <td>0</td>\n",
       "        </tr>\n",
       "        <tr>\n",
       "            <td>France</td>\n",
       "            <td>5</td>\n",
       "            <td>389.07</td>\n",
       "            <td>7.78</td>\n",
       "            <td>0</td>\n",
       "        </tr>\n",
       "        <tr>\n",
       "            <td>Canada</td>\n",
       "            <td>8</td>\n",
       "            <td>535.59</td>\n",
       "            <td>7.05</td>\n",
       "            <td>0</td>\n",
       "        </tr>\n",
       "        <tr>\n",
       "            <td>Brazil</td>\n",
       "            <td>5</td>\n",
       "            <td>427.68</td>\n",
       "            <td>7.01</td>\n",
       "            <td>0</td>\n",
       "        </tr>\n",
       "        <tr>\n",
       "            <td>Portugal</td>\n",
       "            <td>2</td>\n",
       "            <td>185.13</td>\n",
       "            <td>6.38</td>\n",
       "            <td>0</td>\n",
       "        </tr>\n",
       "        <tr>\n",
       "            <td>Others</td>\n",
       "            <td>15</td>\n",
       "            <td>1094.94</td>\n",
       "            <td>7.44</td>\n",
       "            <td>1</td>\n",
       "        </tr>\n",
       "    </tbody>\n",
       "</table>"
      ],
      "text/plain": [
       "[('Czech Republic', 2, 273.24, 9.11, 0),\n",
       " ('United Kingdom', 3, 245.52, 8.77, 0),\n",
       " ('India', 2, 183.15, 8.72, 0),\n",
       " ('Germany', 4, 334.62, 8.16, 0),\n",
       " ('USA', 13, 1040.49, 7.94, 0),\n",
       " ('France', 5, 389.07, 7.78, 0),\n",
       " ('Canada', 8, 535.59, 7.05, 0),\n",
       " ('Brazil', 5, 427.68, 7.01, 0),\n",
       " ('Portugal', 2, 185.13, 6.38, 0),\n",
       " ('Others', 15, 1094.94, 7.44, 1)]"
      ]
     },
     "execution_count": 142,
     "metadata": {},
     "output_type": "execute_result"
    }
   ],
   "source": [
    "%%sql\n",
    "SELECT \n",
    "    country,\n",
    "    customers,\n",
    "    total,\n",
    "    average_order,\n",
    "    country_index\n",
    "FROM country_more_1_customer\n",
    "\n",
    "UNION\n",
    "\n",
    "SELECT \n",
    "    country,\n",
    "    customers,\n",
    "    total,\n",
    "    average_order,\n",
    "    country_index\n",
    "FROM country_with_1_customer\n",
    "ORDER BY country_index, average_order DESC;"
   ]
  },
  {
   "cell_type": "markdown",
   "metadata": {},
   "source": [
    "The Czech Republic has the highest average of orders at chinook store followed by United Kingdom and India."
   ]
  }
 ],
 "metadata": {
  "kernelspec": {
   "display_name": "Python 3",
   "language": "python",
   "name": "python3"
  },
  "language_info": {
   "codemirror_mode": {
    "name": "ipython",
    "version": 3
   },
   "file_extension": ".py",
   "mimetype": "text/x-python",
   "name": "python",
   "nbconvert_exporter": "python",
   "pygments_lexer": "ipython3",
   "version": "3.8.5"
  }
 },
 "nbformat": 4,
 "nbformat_minor": 4
}
